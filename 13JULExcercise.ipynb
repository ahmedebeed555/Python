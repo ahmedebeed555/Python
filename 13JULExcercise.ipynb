{
  "nbformat": 4,
  "nbformat_minor": 0,
  "metadata": {
    "colab": {
      "provenance": [],
      "authorship_tag": "ABX9TyNBQPuJZ1NHr5QPZnYtMBiJ",
      "include_colab_link": true
    },
    "kernelspec": {
      "name": "python3",
      "display_name": "Python 3"
    },
    "language_info": {
      "name": "python"
    }
  },
  "cells": [
    {
      "cell_type": "markdown",
      "metadata": {
        "id": "view-in-github",
        "colab_type": "text"
      },
      "source": [
        "<a href=\"https://colab.research.google.com/github/ahmedebeed555/Python/blob/main/13JULExcercise.ipynb\" target=\"_parent\"><img src=\"https://colab.research.google.com/assets/colab-badge.svg\" alt=\"Open In Colab\"/></a>"
      ]
    },
    {
      "cell_type": "code",
      "execution_count": 5,
      "metadata": {
        "colab": {
          "base_uri": "https://localhost:8080/"
        },
        "id": "24FCJpLhga73",
        "outputId": "568aaf65-698e-4495-f545-c08165141a1c"
      },
      "outputs": [
        {
          "output_type": "stream",
          "name": "stdout",
          "text": [
            "[[48 40  6]\n",
            " [43 28  9]\n",
            " [ 7 45 19]\n",
            " [35 14 35]\n",
            " [21 15 19]]\n"
          ]
        }
      ],
      "source": [
        "'''\n",
        "Make a random 2D array containing temperatures of 5 days each day should contain 3 temperatures  ex: [ [ 1,55, 44],\n",
        "\t\t\t\t       [ 5,12, 64],\n",
        "\t\t\t\t       [ 5,12, 64],\n",
        "\t\t\t\t       [ 30,12, 64],\n",
        "\t\t\t\t       [ 15,22, 6]]\n",
        "\n",
        "Then give me all hot degrees (>25)  all cold degrees (<10) and all normal degrees( 10 < xx < 25 )\n",
        "'''\n",
        "\n",
        "import numpy as np\n",
        "\n",
        "temps = np.random.randint(0,50, size=(5,3))\n",
        "\n",
        "print(temps)"
      ]
    },
    {
      "cell_type": "code",
      "source": [
        "# all hot degrees\n",
        "print(temps[temps>25])"
      ],
      "metadata": {
        "colab": {
          "base_uri": "https://localhost:8080/"
        },
        "id": "ME--SI4FgvNY",
        "outputId": "c9d7cf57-8731-43b8-806b-e050b91b2ddd"
      },
      "execution_count": 6,
      "outputs": [
        {
          "output_type": "stream",
          "name": "stdout",
          "text": [
            "[48 40 43 28 45 35 35]\n"
          ]
        }
      ]
    },
    {
      "cell_type": "code",
      "source": [
        "# all cold degrees\n",
        "print(temps[temps<10])"
      ],
      "metadata": {
        "colab": {
          "base_uri": "https://localhost:8080/"
        },
        "id": "9vLTH8Vyg3b_",
        "outputId": "bedba674-3605-45ea-9740-ba5badf8f75c"
      },
      "execution_count": 7,
      "outputs": [
        {
          "output_type": "stream",
          "name": "stdout",
          "text": [
            "[6 9 7]\n"
          ]
        }
      ]
    },
    {
      "cell_type": "code",
      "source": [
        "# All normal degrees\n",
        "print(temps[(temps>10) & (temps<25)])"
      ],
      "metadata": {
        "colab": {
          "base_uri": "https://localhost:8080/"
        },
        "id": "YCpWhabAhDFv",
        "outputId": "2a5def5f-ac33-4ab3-9991-16cc0c82695a"
      },
      "execution_count": 8,
      "outputs": [
        {
          "output_type": "stream",
          "name": "stdout",
          "text": [
            "[19 14 21 15 19]\n"
          ]
        }
      ]
    }
  ]
}