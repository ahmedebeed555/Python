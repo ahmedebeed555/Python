{
  "nbformat": 4,
  "nbformat_minor": 0,
  "metadata": {
    "colab": {
      "provenance": [],
      "authorship_tag": "ABX9TyMeQJrseVEQqEyMXNJsmJFA",
      "include_colab_link": true
    },
    "kernelspec": {
      "name": "python3",
      "display_name": "Python 3"
    },
    "language_info": {
      "name": "python"
    }
  },
  "cells": [
    {
      "cell_type": "markdown",
      "metadata": {
        "id": "view-in-github",
        "colab_type": "text"
      },
      "source": [
        "<a href=\"https://colab.research.google.com/github/ahmedebeed555/Python/blob/main/18JUL2025_excercise.ipynb\" target=\"_parent\"><img src=\"https://colab.research.google.com/assets/colab-badge.svg\" alt=\"Open In Colab\"/></a>"
      ]
    },
    {
      "cell_type": "code",
      "execution_count": 1,
      "metadata": {
        "colab": {
          "base_uri": "https://localhost:8080/"
        },
        "id": "QIUWRiaLoppx",
        "outputId": "f9be3f05-2798-4008-c8e8-090756fcf1e7"
      },
      "outputs": [
        {
          "output_type": "stream",
          "name": "stdout",
          "text": [
            "[1, 0, 1, 40, 0, 5, 3, 0, 2, 6, 0]\n"
          ]
        }
      ],
      "source": [
        "'''\n",
        "Ai Session 17 - Friday Jul 18 2025 - Programming Python #8 - Libraries (pandas) # 1\n",
        "\n",
        "Create a function takes a list array then replace each -ve number with zero\n",
        "\n",
        "Make one implementation with loop and the other with numpy\n",
        "\n",
        "\n",
        "\n",
        "'''\n",
        "# this is the loop approch\n",
        "\n",
        "def replaceNegative(arr):\n",
        "  for i in range(len(arr)):\n",
        "    if arr[i] <0:\n",
        "      arr[i]=0\n",
        "  return arr\n",
        "arr=[1,0,1,40,-3,5,3,-3,2,6,-5]\n",
        "print(replaceNegative(arr))"
      ]
    },
    {
      "cell_type": "code",
      "source": [
        "'''\n",
        "Ai Session 17 - Friday Jul 18 2025 - Programming Python #8 - Libraries (pandas) # 1\n",
        "\n",
        "Create a function takes a list array then replace each -ve number with zero\n",
        "\n",
        "Make one implementation with loop and the other with numpy\n",
        "\n",
        "'''\n",
        "# this is the numpy approch\n",
        "import numpy as np\n",
        "\n",
        "def replaceNegative(arr):\n",
        "  np.place(arr,arr<0,0)\n",
        "  return arr\n",
        "arr=np.array([1,0,1,40,-3,5,3,-3,2,6,-5])\n",
        "print(replaceNegative(arr))\n",
        "\n",
        "\n"
      ],
      "metadata": {
        "colab": {
          "base_uri": "https://localhost:8080/"
        },
        "id": "r0md72vuqx7P",
        "outputId": "eccfb8a1-9be3-46a9-ed49-908d118f4ad7"
      },
      "execution_count": 3,
      "outputs": [
        {
          "output_type": "stream",
          "name": "stdout",
          "text": [
            "[ 1  0  1 40  0  5  3  0  2  6  0]\n"
          ]
        }
      ]
    },
    {
      "cell_type": "code",
      "source": [
        "'''\n",
        "Ai Session 17 - Friday Jul 18 2025 - Programming Python #8 - Libraries (pandas) # 1\n",
        "\n",
        "Create a function takes a list array then replace each -ve number with zero\n",
        "\n",
        "Make one implementation with loop and the other with numpy\n",
        "\n",
        "'''\n",
        "# this is the another numpy approch\n",
        "import numpy as np\n",
        "\n",
        "def replaceNegative(arr):\n",
        "  np.where(arr<0,0,arr)\n",
        "  return arr\n",
        "arr=np.array([1,0,1,40,-3,5,3,-3,2,6,-5])\n",
        "print(replaceNegative(arr))\n"
      ],
      "metadata": {
        "colab": {
          "base_uri": "https://localhost:8080/"
        },
        "id": "Bo1iig8ntNb3",
        "outputId": "2f2cca19-365d-4555-b07b-cda7fe19726f"
      },
      "execution_count": 4,
      "outputs": [
        {
          "output_type": "stream",
          "name": "stdout",
          "text": [
            "[ 1  0  1 40 -3  5  3 -3  2  6 -5]\n"
          ]
        }
      ]
    },
    {
      "cell_type": "code",
      "source": [
        "'''\n",
        "Ai Session 17 - Friday Jul 18 2025 - Programming Python #8 - Libraries (pandas) # 1\n",
        "\n",
        "Create a function takes a list array then replace each -ve number with zero\n",
        "\n",
        "Make one implementation with loop and the other with numpy\n",
        "\n",
        "'''\n",
        "# this is the another numpy approch\n",
        "import numpy as np\n",
        "\n",
        "def replaceNegative(arr):\n",
        "  arr[arr<0]=0\n",
        "  return arr\n",
        "np.random.seed(0)\n",
        "arr=np.random.randint(-10,10,10)\n",
        "print(replaceNegative(arr))\n"
      ],
      "metadata": {
        "colab": {
          "base_uri": "https://localhost:8080/"
        },
        "outputId": "ffce8688-1241-4a7f-8711-8e383e468914",
        "id": "2BXVA9vu0_mV"
      },
      "execution_count": 15,
      "outputs": [
        {
          "output_type": "stream",
          "name": "stdout",
          "text": [
            "[2 5 0 0 0 0 0 9 8 0]\n"
          ]
        }
      ]
    }
  ]
}