{
  "nbformat": 4,
  "nbformat_minor": 0,
  "metadata": {
    "colab": {
      "provenance": [],
      "include_colab_link": true
    },
    "kernelspec": {
      "name": "python3",
      "display_name": "Python 3"
    },
    "language_info": {
      "name": "python"
    }
  },
  "cells": [
    {
      "cell_type": "markdown",
      "metadata": {
        "id": "view-in-github",
        "colab_type": "text"
      },
      "source": [
        "<a href=\"https://colab.research.google.com/github/ahmedebeed555/Python/blob/main/18Jul2025Numpy.ipynb\" target=\"_parent\"><img src=\"https://colab.research.google.com/assets/colab-badge.svg\" alt=\"Open In Colab\"/></a>"
      ]
    },
    {
      "cell_type": "code",
      "execution_count": null,
      "metadata": {
        "id": "mifIEl9uc9mS"
      },
      "outputs": [],
      "source": [
        "import numpy as np"
      ]
    },
    {
      "cell_type": "code",
      "source": [
        "scores  = np.random.randint(0 , 100 , (10))\n",
        "scores"
      ],
      "metadata": {
        "colab": {
          "base_uri": "https://localhost:8080/"
        },
        "id": "aQThxhqydABn",
        "outputId": "33761e46-2b03-41f0-f757-dc92dd989b36"
      },
      "execution_count": null,
      "outputs": [
        {
          "output_type": "execute_result",
          "data": {
            "text/plain": [
              "array([82, 65, 86, 61, 95, 95, 67, 63,  4, 10])"
            ]
          },
          "metadata": {},
          "execution_count": 3
        }
      ]
    },
    {
      "cell_type": "code",
      "source": [
        "scores[scores <50]"
      ],
      "metadata": {
        "colab": {
          "base_uri": "https://localhost:8080/"
        },
        "id": "LqaxzlO9eP_h",
        "outputId": "dda72f27-3791-4870-e92a-ba6a8464456e"
      },
      "execution_count": null,
      "outputs": [
        {
          "output_type": "execute_result",
          "data": {
            "text/plain": [
              "array([ 4, 10])"
            ]
          },
          "metadata": {},
          "execution_count": 9
        }
      ]
    },
    {
      "cell_type": "code",
      "source": [
        "scores.size, scores.shape"
      ],
      "metadata": {
        "colab": {
          "base_uri": "https://localhost:8080/"
        },
        "id": "Ihzx0gzHeeiU",
        "outputId": "6e37c26c-cf85-40c8-c5f4-2e53a6962535"
      },
      "execution_count": null,
      "outputs": [
        {
          "output_type": "execute_result",
          "data": {
            "text/plain": [
              "(10, (10,))"
            ]
          },
          "metadata": {},
          "execution_count": 8
        }
      ]
    },
    {
      "cell_type": "code",
      "source": [
        "scores[scores < 50 ] += 10\n",
        "scores"
      ],
      "metadata": {
        "colab": {
          "base_uri": "https://localhost:8080/"
        },
        "id": "N5IO6pgzemWD",
        "outputId": "9c314b0b-f5c0-456b-f3a8-374ab023e92e"
      },
      "execution_count": null,
      "outputs": [
        {
          "output_type": "execute_result",
          "data": {
            "text/plain": [
              "array([82, 65, 86, 61, 95, 95, 67, 63, 14, 20])"
            ]
          },
          "metadata": {},
          "execution_count": 10
        }
      ]
    },
    {
      "cell_type": "code",
      "source": [
        "scores[scores <50]"
      ],
      "metadata": {
        "colab": {
          "base_uri": "https://localhost:8080/"
        },
        "id": "jA-0cxXzeyGj",
        "outputId": "7b286ea4-ee33-49b8-ed31-a24c571e7d47"
      },
      "execution_count": null,
      "outputs": [
        {
          "output_type": "execute_result",
          "data": {
            "text/plain": [
              "array([14, 20])"
            ]
          },
          "metadata": {},
          "execution_count": 11
        }
      ]
    },
    {
      "cell_type": "markdown",
      "source": [
        "# Tempreture Example"
      ],
      "metadata": {
        "id": "NM-_361ugFGb"
      }
    },
    {
      "cell_type": "code",
      "source": [
        "temps = np.random.randint(0 , 50 , (5 , 3))\n",
        "temps"
      ],
      "metadata": {
        "colab": {
          "base_uri": "https://localhost:8080/"
        },
        "id": "mZZlAJ60e0YT",
        "outputId": "d2e9a4e5-178b-4812-d615-6d5ca7bcf94c"
      },
      "execution_count": null,
      "outputs": [
        {
          "output_type": "execute_result",
          "data": {
            "text/plain": [
              "array([[19, 10, 44],\n",
              "       [15, 18,  7],\n",
              "       [16, 47, 19],\n",
              "       [40, 44, 20],\n",
              "       [27, 46, 45]])"
            ]
          },
          "metadata": {},
          "execution_count": 13
        }
      ]
    },
    {
      "cell_type": "code",
      "source": [
        "temps[temps < 10]"
      ],
      "metadata": {
        "colab": {
          "base_uri": "https://localhost:8080/"
        },
        "id": "oASut_zbkCDo",
        "outputId": "4716001d-48df-4cf8-9efc-27a41b464e04"
      },
      "execution_count": null,
      "outputs": [
        {
          "output_type": "execute_result",
          "data": {
            "text/plain": [
              "array([7])"
            ]
          },
          "metadata": {},
          "execution_count": 27
        }
      ]
    },
    {
      "cell_type": "code",
      "source": [
        "cold_days = temps[temps < 10 ]\n",
        "cold_days"
      ],
      "metadata": {
        "colab": {
          "base_uri": "https://localhost:8080/"
        },
        "id": "9RH-RaqZgQH4",
        "outputId": "780878ac-14df-4cb8-9ad5-8d5700441601"
      },
      "execution_count": null,
      "outputs": [
        {
          "output_type": "execute_result",
          "data": {
            "text/plain": [
              "array([7])"
            ]
          },
          "metadata": {},
          "execution_count": 15
        }
      ]
    },
    {
      "cell_type": "code",
      "source": [
        "temps"
      ],
      "metadata": {
        "colab": {
          "base_uri": "https://localhost:8080/"
        },
        "id": "fBUBqJhlkhgC",
        "outputId": "9f49ef7c-7059-4a00-ae82-419154ffee16"
      },
      "execution_count": null,
      "outputs": [
        {
          "output_type": "execute_result",
          "data": {
            "text/plain": [
              "array([[19, 10, 44],\n",
              "       [15, 18,  7],\n",
              "       [16, 47, 19],\n",
              "       [40, 44, 20],\n",
              "       [27, 46, 45]])"
            ]
          },
          "metadata": {},
          "execution_count": 29
        }
      ]
    },
    {
      "cell_type": "code",
      "source": [
        "temps > 25"
      ],
      "metadata": {
        "colab": {
          "base_uri": "https://localhost:8080/"
        },
        "id": "hVeiHHP-kddz",
        "outputId": "0a4680e1-b8fa-454e-8c38-d7256a88dc4c"
      },
      "execution_count": null,
      "outputs": [
        {
          "output_type": "execute_result",
          "data": {
            "text/plain": [
              "array([[False, False,  True],\n",
              "       [False, False, False],\n",
              "       [False,  True, False],\n",
              "       [ True,  True, False],\n",
              "       [ True,  True,  True]])"
            ]
          },
          "metadata": {},
          "execution_count": 28
        }
      ]
    },
    {
      "cell_type": "code",
      "source": [
        "hot_days = temps[temps > 25]\n",
        "hot_days"
      ],
      "metadata": {
        "colab": {
          "base_uri": "https://localhost:8080/"
        },
        "id": "5F8Fxp0ZgNGU",
        "outputId": "c2b993d6-7709-44c0-817a-cfb473222102"
      },
      "execution_count": null,
      "outputs": [
        {
          "output_type": "execute_result",
          "data": {
            "text/plain": [
              "array([44, 47, 40, 44, 27, 46, 45])"
            ]
          },
          "metadata": {},
          "execution_count": 16
        }
      ]
    },
    {
      "cell_type": "code",
      "source": [
        "normal_days = temps[(temps > 10) & (temps < 25) ]\n",
        "normal_days"
      ],
      "metadata": {
        "colab": {
          "base_uri": "https://localhost:8080/"
        },
        "id": "TTPY-iJlgaRD",
        "outputId": "e331b492-c66c-4df2-967e-4a16bc4a628c"
      },
      "execution_count": null,
      "outputs": [
        {
          "output_type": "execute_result",
          "data": {
            "text/plain": [
              "array([19, 15, 18, 16, 19, 20])"
            ]
          },
          "metadata": {},
          "execution_count": 22
        }
      ]
    },
    {
      "cell_type": "code",
      "source": [
        "(temps > 10) , (temps < 25)"
      ],
      "metadata": {
        "colab": {
          "base_uri": "https://localhost:8080/"
        },
        "id": "EF_VK90hlCMZ",
        "outputId": "ea8367e7-2af2-4164-b1a3-bbdb58224ade"
      },
      "execution_count": null,
      "outputs": [
        {
          "output_type": "execute_result",
          "data": {
            "text/plain": [
              "(array([[ True, False,  True],\n",
              "        [ True,  True, False],\n",
              "        [ True,  True,  True],\n",
              "        [ True,  True,  True],\n",
              "        [ True,  True,  True]]),\n",
              " array([[ True,  True, False],\n",
              "        [ True,  True,  True],\n",
              "        [ True, False,  True],\n",
              "        [False, False,  True],\n",
              "        [False, False, False]]))"
            ]
          },
          "metadata": {},
          "execution_count": 32
        }
      ]
    },
    {
      "cell_type": "markdown",
      "source": [
        "# Sales Data"
      ],
      "metadata": {
        "id": "fXB4J__5l43y"
      }
    },
    {
      "cell_type": "code",
      "source": [
        "sales = np.random.randint(0 , 100000 , (10000000))\n",
        "sales"
      ],
      "metadata": {
        "colab": {
          "base_uri": "https://localhost:8080/"
        },
        "id": "Gjim11sEl4s7",
        "outputId": "a1ac8015-2e9d-4fc9-e925-210548a0d8b7"
      },
      "execution_count": null,
      "outputs": [
        {
          "output_type": "execute_result",
          "data": {
            "text/plain": [
              "array([81019, 86865, 96933, ...,   954, 84063, 58498])"
            ]
          },
          "metadata": {},
          "execution_count": 36
        }
      ]
    },
    {
      "cell_type": "code",
      "source": [
        "np.sum(sales)"
      ],
      "metadata": {
        "colab": {
          "base_uri": "https://localhost:8080/"
        },
        "id": "chkXY8Rogg8D",
        "outputId": "0a0d1b10-8ef2-47ed-c414-63debd6547ab"
      },
      "execution_count": null,
      "outputs": [
        {
          "output_type": "execute_result",
          "data": {
            "text/plain": [
              "np.int64(500120630059)"
            ]
          },
          "metadata": {},
          "execution_count": 37
        }
      ]
    },
    {
      "cell_type": "code",
      "source": [
        "np.mean(sales) , np.median(sales), np.std(sales) , np.var(sales)"
      ],
      "metadata": {
        "colab": {
          "base_uri": "https://localhost:8080/"
        },
        "id": "dZ64KuO-mNt7",
        "outputId": "7ad7a872-571d-4096-836b-0f08e8f1f963"
      },
      "execution_count": null,
      "outputs": [
        {
          "output_type": "execute_result",
          "data": {
            "text/plain": [
              "(np.float64(50012.0630059),\n",
              " np.float64(50014.0),\n",
              " np.float64(28872.466339475555),\n",
              " np.float64(833619312.524149))"
            ]
          },
          "metadata": {},
          "execution_count": 42
        }
      ]
    },
    {
      "cell_type": "code",
      "source": [
        "np.max(sales), np.min(sales), np.average(sales)"
      ],
      "metadata": {
        "colab": {
          "base_uri": "https://localhost:8080/"
        },
        "id": "oxqFKdvQmjCz",
        "outputId": "01a19613-3f80-4bbd-83f2-061e87dae5d5"
      },
      "execution_count": null,
      "outputs": [
        {
          "output_type": "execute_result",
          "data": {
            "text/plain": [
              "(np.int64(99999), np.int64(0), np.float64(50012.0630059))"
            ]
          },
          "metadata": {},
          "execution_count": 45
        }
      ]
    },
    {
      "cell_type": "code",
      "source": [
        "nums = np.array([2 , 5 , 0])"
      ],
      "metadata": {
        "id": "6NP5iashq2Bt"
      },
      "execution_count": null,
      "outputs": []
    },
    {
      "cell_type": "code",
      "source": [
        "np.exp(nums)"
      ],
      "metadata": {
        "colab": {
          "base_uri": "https://localhost:8080/"
        },
        "id": "WtxS6gjQpnLy",
        "outputId": "7b78f7ad-2945-4b79-9443-dc0de5e8243b"
      },
      "execution_count": null,
      "outputs": [
        {
          "output_type": "execute_result",
          "data": {
            "text/plain": [
              "array([  7.3890561, 148.4131591,   1.       ])"
            ]
          },
          "metadata": {},
          "execution_count": 49
        }
      ]
    },
    {
      "cell_type": "markdown",
      "source": [
        "#Linear Algebra"
      ],
      "metadata": {
        "id": "HTUTdD_VrIbj"
      }
    },
    {
      "cell_type": "code",
      "source": [
        "matrix1 = np.random.randint(1, 20 , (3 , 2))\n",
        "matrix2 = np.random.randint(1, 20 , (2, 3))"
      ],
      "metadata": {
        "id": "SghRT-pkqAgh"
      },
      "execution_count": null,
      "outputs": []
    },
    {
      "cell_type": "code",
      "source": [
        "matrix1 , matrix2"
      ],
      "metadata": {
        "colab": {
          "base_uri": "https://localhost:8080/"
        },
        "id": "BYUVLTszqAWi",
        "outputId": "070fba47-6a0d-4d3a-81da-ea0f028e022c"
      },
      "execution_count": null,
      "outputs": [
        {
          "output_type": "execute_result",
          "data": {
            "text/plain": [
              "(array([[ 5, 19],\n",
              "        [ 5, 12],\n",
              "        [ 9, 19]]),\n",
              " array([[12, 11,  9],\n",
              "        [ 8,  8, 13]]))"
            ]
          },
          "metadata": {},
          "execution_count": 61
        }
      ]
    },
    {
      "cell_type": "code",
      "source": [
        "vec1 = np.random.randint(0 , 20  , (10))\n",
        "vec2 = np.random.randint(0 , 20  , (10))"
      ],
      "metadata": {
        "id": "K8PDlQTurj1S"
      },
      "execution_count": null,
      "outputs": []
    },
    {
      "cell_type": "code",
      "source": [
        "vec1 , vec2"
      ],
      "metadata": {
        "colab": {
          "base_uri": "https://localhost:8080/"
        },
        "id": "gOfekd0BsBy7",
        "outputId": "84a8a8a0-1582-45bd-aed2-9095a626199a"
      },
      "execution_count": null,
      "outputs": [
        {
          "output_type": "execute_result",
          "data": {
            "text/plain": [
              "(array([19, 13, 10, 16, 18,  4,  5, 13, 12,  6]),\n",
              " array([ 7,  5,  3, 15, 16, 12,  1, 14,  0, 19]))"
            ]
          },
          "metadata": {},
          "execution_count": 63
        }
      ]
    },
    {
      "cell_type": "code",
      "source": [
        "np.dot(vec1 , vec2)"
      ],
      "metadata": {
        "colab": {
          "base_uri": "https://localhost:8080/"
        },
        "id": "ZdMmx312rq8g",
        "outputId": "a0bc28a6-0e6b-46da-9ff7-c2da88628f51"
      },
      "execution_count": null,
      "outputs": [
        {
          "output_type": "execute_result",
          "data": {
            "text/plain": [
              "np.int64(1105)"
            ]
          },
          "metadata": {},
          "execution_count": 64
        }
      ]
    },
    {
      "cell_type": "code",
      "source": [
        "matrix1.shape , matrix2.shape"
      ],
      "metadata": {
        "colab": {
          "base_uri": "https://localhost:8080/"
        },
        "id": "2lNxiSNitUHM",
        "outputId": "e8eca5ba-7ba2-44ee-e755-5222d749f8e1"
      },
      "execution_count": null,
      "outputs": [
        {
          "output_type": "execute_result",
          "data": {
            "text/plain": [
              "((3, 2), (2, 3))"
            ]
          },
          "metadata": {},
          "execution_count": 69
        }
      ]
    },
    {
      "cell_type": "code",
      "source": [
        "np.matmul(matrix1, matrix2)"
      ],
      "metadata": {
        "colab": {
          "base_uri": "https://localhost:8080/"
        },
        "id": "wtOKV5LXtTIC",
        "outputId": "bc25274e-8902-4006-b26c-5982b5e4ad74"
      },
      "execution_count": null,
      "outputs": [
        {
          "output_type": "execute_result",
          "data": {
            "text/plain": [
              "array([[212, 207, 292],\n",
              "       [156, 151, 201],\n",
              "       [260, 251, 328]])"
            ]
          },
          "metadata": {},
          "execution_count": 67
        }
      ]
    },
    {
      "cell_type": "code",
      "source": [
        "matrix1 @ matrix2"
      ],
      "metadata": {
        "colab": {
          "base_uri": "https://localhost:8080/"
        },
        "id": "k7TthCRCteAv",
        "outputId": "b7275d47-2cbd-4d7a-c0bc-afa4ee1968b2"
      },
      "execution_count": null,
      "outputs": [
        {
          "output_type": "execute_result",
          "data": {
            "text/plain": [
              "array([[212, 207, 292],\n",
              "       [156, 151, 201],\n",
              "       [260, 251, 328]])"
            ]
          },
          "metadata": {},
          "execution_count": 68
        }
      ]
    },
    {
      "cell_type": "code",
      "source": [],
      "metadata": {
        "id": "_qoFK3Dit2MC"
      },
      "execution_count": null,
      "outputs": []
    }
  ]
}