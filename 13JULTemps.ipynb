{
  "nbformat": 4,
  "nbformat_minor": 0,
  "metadata": {
    "colab": {
      "provenance": [],
      "authorship_tag": "ABX9TyOQowrUAarBl3lZGnlU0nSV",
      "include_colab_link": true
    },
    "kernelspec": {
      "name": "python3",
      "display_name": "Python 3"
    },
    "language_info": {
      "name": "python"
    }
  },
  "cells": [
    {
      "cell_type": "markdown",
      "metadata": {
        "id": "view-in-github",
        "colab_type": "text"
      },
      "source": [
        "<a href=\"https://colab.research.google.com/github/ahmedebeed555/Python/blob/main/13JULTemps.ipynb\" target=\"_parent\"><img src=\"https://colab.research.google.com/assets/colab-badge.svg\" alt=\"Open In Colab\"/></a>"
      ]
    },
    {
      "cell_type": "code",
      "execution_count": 11,
      "metadata": {
        "colab": {
          "base_uri": "https://localhost:8080/"
        },
        "id": "24FCJpLhga73",
        "outputId": "3521f9cf-e987-4e48-be83-e0ab47e1c208"
      },
      "outputs": [
        {
          "output_type": "stream",
          "name": "stdout",
          "text": [
            "[[45 13  6]\n",
            " [ 8 49 43]\n",
            " [45  3  3]\n",
            " [43 46 42]\n",
            " [45 23 15]]\n"
          ]
        }
      ],
      "source": [
        "'''\n",
        "Make a random 2D array containing temperatures of 5 days each day should contain 3 temperatures  ex: [ [ 1,55, 44],\n",
        "\t\t\t\t       [ 5,12, 64],\n",
        "\t\t\t\t       [ 5,12, 64],\n",
        "\t\t\t\t       [ 30,12, 64],\n",
        "\t\t\t\t       [ 15,22, 6]]\n",
        "\n",
        "Then give me all hot degrees (>25)  all cold degrees (<10) and all normal degrees( 10 < xx < 25 )\n",
        "'''\n",
        "\n",
        "import numpy as np\n",
        "\n",
        "temps = np.random.randint(0,50,(5,3))\n",
        "\n",
        "print(temps)"
      ]
    },
    {
      "cell_type": "code",
      "source": [
        "# all hot degrees\n",
        "print(temps[temps>25])"
      ],
      "metadata": {
        "colab": {
          "base_uri": "https://localhost:8080/"
        },
        "id": "ME--SI4FgvNY",
        "outputId": "7b3f396e-5014-45cb-cb8f-c95a395a1309"
      },
      "execution_count": 12,
      "outputs": [
        {
          "output_type": "stream",
          "name": "stdout",
          "text": [
            "[45 49 43 45 43 46 42 45]\n"
          ]
        }
      ]
    },
    {
      "cell_type": "code",
      "source": [
        "# all cold degrees\n",
        "print(temps[temps<10])"
      ],
      "metadata": {
        "colab": {
          "base_uri": "https://localhost:8080/"
        },
        "id": "9vLTH8Vyg3b_",
        "outputId": "534c1dd6-bd15-4c8f-d37e-9b3f5b6c4ce4"
      },
      "execution_count": 13,
      "outputs": [
        {
          "output_type": "stream",
          "name": "stdout",
          "text": [
            "[6 8 3 3]\n"
          ]
        }
      ]
    },
    {
      "cell_type": "code",
      "source": [
        "# All normal degrees\n",
        "print(temps[(temps>10) & (temps<25)])"
      ],
      "metadata": {
        "colab": {
          "base_uri": "https://localhost:8080/"
        },
        "id": "YCpWhabAhDFv",
        "outputId": "ea45f8d3-7945-442d-cafa-c84bf4993df0"
      },
      "execution_count": 14,
      "outputs": [
        {
          "output_type": "stream",
          "name": "stdout",
          "text": [
            "[13 23 15]\n"
          ]
        }
      ]
    }
  ]
}