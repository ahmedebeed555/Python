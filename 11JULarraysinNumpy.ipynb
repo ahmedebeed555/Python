{
  "nbformat": 4,
  "nbformat_minor": 0,
  "metadata": {
    "colab": {
      "provenance": [],
      "authorship_tag": "ABX9TyOPSqeHYsINlYbuin6ixvkV",
      "include_colab_link": true
    },
    "kernelspec": {
      "name": "python3",
      "display_name": "Python 3"
    },
    "language_info": {
      "name": "python"
    }
  },
  "cells": [
    {
      "cell_type": "markdown",
      "metadata": {
        "id": "view-in-github",
        "colab_type": "text"
      },
      "source": [
        "<a href=\"https://colab.research.google.com/github/ahmedebeed555/Python/blob/main/11JULarraysinNumpy.ipynb\" target=\"_parent\"><img src=\"https://colab.research.google.com/assets/colab-badge.svg\" alt=\"Open In Colab\"/></a>"
      ]
    },
    {
      "cell_type": "code",
      "execution_count": 8,
      "metadata": {
        "colab": {
          "base_uri": "https://localhost:8080/"
        },
        "id": "GR3PsLZERdC5",
        "outputId": "b1cd8660-42c1-4486-9162-62983b235811"
      },
      "outputs": [
        {
          "output_type": "stream",
          "name": "stdout",
          "text": [
            "[64 90]\n",
            "[False False False False  True False False False  True]\n",
            "[85 90]\n",
            "[40 24 47 56 85  3 45 64 90]\n",
            "[45 29 52 61 85  8 50 69 90]\n"
          ]
        }
      ],
      "source": [
        "import numpy as np\n",
        "scores = np.array([40,24,47,56,85,3,45,64,90])\n",
        "print(scores[-2:])\n",
        "print(scores>80)\n",
        "print(scores[scores>80])\n",
        "print(scores)\n",
        "scores[scores<80]+=5\n",
        "\n",
        "print(scores)"
      ]
    }
  ]
}