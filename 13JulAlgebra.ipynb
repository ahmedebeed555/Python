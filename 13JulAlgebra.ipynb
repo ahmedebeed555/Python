{
  "nbformat": 4,
  "nbformat_minor": 0,
  "metadata": {
    "colab": {
      "provenance": [],
      "authorship_tag": "ABX9TyP5LQV/O3m+XvZvb7dgkAf4",
      "include_colab_link": true
    },
    "kernelspec": {
      "name": "python3",
      "display_name": "Python 3"
    },
    "language_info": {
      "name": "python"
    }
  },
  "cells": [
    {
      "cell_type": "markdown",
      "metadata": {
        "id": "view-in-github",
        "colab_type": "text"
      },
      "source": [
        "<a href=\"https://colab.research.google.com/github/ahmedebeed555/Python/blob/main/13JulAlgebra.ipynb\" target=\"_parent\"><img src=\"https://colab.research.google.com/assets/colab-badge.svg\" alt=\"Open In Colab\"/></a>"
      ]
    },
    {
      "cell_type": "code",
      "execution_count": 2,
      "metadata": {
        "colab": {
          "base_uri": "https://localhost:8080/"
        },
        "id": "Idbv3SAUrM45",
        "outputId": "9fdf4327-9d24-4648-8232-f344ad9a1f90"
      },
      "outputs": [
        {
          "output_type": "execute_result",
          "data": {
            "text/plain": [
              "array([[12, 11],\n",
              "       [14,  3],\n",
              "       [15, 17]])"
            ]
          },
          "metadata": {},
          "execution_count": 2
        }
      ],
      "source": [
        "import numpy as np\n",
        "matrix1 = np.random.randint(1,20,(3,2))\n",
        "matrix1"
      ]
    },
    {
      "cell_type": "code",
      "source": [
        "matrix2 = np.random.randint(1,20,(2,2))\n",
        "matrix2"
      ],
      "metadata": {
        "colab": {
          "base_uri": "https://localhost:8080/"
        },
        "id": "pe5Cw52Err5s",
        "outputId": "37926ee4-3e43-4e00-a20c-ab539819b5c6"
      },
      "execution_count": 6,
      "outputs": [
        {
          "output_type": "execute_result",
          "data": {
            "text/plain": [
              "array([[ 8,  9],\n",
              "       [ 3, 15]])"
            ]
          },
          "metadata": {},
          "execution_count": 6
        }
      ]
    },
    {
      "cell_type": "code",
      "source": [
        "np.dot(matrix1,matrix2)"
      ],
      "metadata": {
        "colab": {
          "base_uri": "https://localhost:8080/"
        },
        "id": "-4elyNSAs31L",
        "outputId": "09a1f6d8-92e0-4aac-9f73-434725b395d4"
      },
      "execution_count": 8,
      "outputs": [
        {
          "output_type": "execute_result",
          "data": {
            "text/plain": [
              "array([[129, 273],\n",
              "       [121, 171],\n",
              "       [171, 390]])"
            ]
          },
          "metadata": {},
          "execution_count": 8
        }
      ]
    },
    {
      "cell_type": "code",
      "source": [
        "print(matrix1)\n",
        "print(np.matrix_transpose(matrix1))\n"
      ],
      "metadata": {
        "colab": {
          "base_uri": "https://localhost:8080/"
        },
        "id": "qZz1rHkNs97C",
        "outputId": "acdb049a-b487-4d6d-9564-59c16b8c187d"
      },
      "execution_count": 18,
      "outputs": [
        {
          "output_type": "stream",
          "name": "stdout",
          "text": [
            "[[12 11]\n",
            " [14  3]\n",
            " [15 17]]\n",
            "[[12 14 15]\n",
            " [11  3 17]]\n"
          ]
        }
      ]
    }
  ]
}