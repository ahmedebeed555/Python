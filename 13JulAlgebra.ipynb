{
  "nbformat": 4,
  "nbformat_minor": 0,
  "metadata": {
    "colab": {
      "provenance": [],
      "authorship_tag": "ABX9TyMnxXul/nY3HJMM6QYkNdii",
      "include_colab_link": true
    },
    "kernelspec": {
      "name": "python3",
      "display_name": "Python 3"
    },
    "language_info": {
      "name": "python"
    }
  },
  "cells": [
    {
      "cell_type": "markdown",
      "metadata": {
        "id": "view-in-github",
        "colab_type": "text"
      },
      "source": [
        "<a href=\"https://colab.research.google.com/github/ahmedebeed555/Python/blob/main/13JulAlgebra.ipynb\" target=\"_parent\"><img src=\"https://colab.research.google.com/assets/colab-badge.svg\" alt=\"Open In Colab\"/></a>"
      ]
    },
    {
      "cell_type": "code",
      "execution_count": 2,
      "metadata": {
        "colab": {
          "base_uri": "https://localhost:8080/"
        },
        "id": "Idbv3SAUrM45",
        "outputId": "9fdf4327-9d24-4648-8232-f344ad9a1f90"
      },
      "outputs": [
        {
          "output_type": "execute_result",
          "data": {
            "text/plain": [
              "array([[12, 11],\n",
              "       [14,  3],\n",
              "       [15, 17]])"
            ]
          },
          "metadata": {},
          "execution_count": 2
        }
      ],
      "source": [
        "import numpy as np\n",
        "matrix1 = np.random.randint(1,20,(3,2))\n",
        "matrix1"
      ]
    },
    {
      "cell_type": "code",
      "source": [
        "matrix2 = np.random.randint(1,20,(2,3))\n",
        "matrix2"
      ],
      "metadata": {
        "colab": {
          "base_uri": "https://localhost:8080/"
        },
        "id": "pe5Cw52Err5s",
        "outputId": "811dcc66-1d03-420a-e627-ed2f51049180"
      },
      "execution_count": 21,
      "outputs": [
        {
          "output_type": "execute_result",
          "data": {
            "text/plain": [
              "array([[14, 16, 15],\n",
              "       [14,  8,  8]])"
            ]
          },
          "metadata": {},
          "execution_count": 21
        }
      ]
    },
    {
      "cell_type": "code",
      "source": [
        "np.dot(matrix1,matrix2)"
      ],
      "metadata": {
        "colab": {
          "base_uri": "https://localhost:8080/"
        },
        "id": "-4elyNSAs31L",
        "outputId": "e64910c4-6f36-4d13-bff8-c938f47e6daa"
      },
      "execution_count": 22,
      "outputs": [
        {
          "output_type": "execute_result",
          "data": {
            "text/plain": [
              "array([[322, 280, 268],\n",
              "       [238, 248, 234],\n",
              "       [448, 376, 361]])"
            ]
          },
          "metadata": {},
          "execution_count": 22
        }
      ]
    },
    {
      "cell_type": "code",
      "source": [
        "print(matrix1)\n",
        "print(np.matrix_transpose(matrix1))\n"
      ],
      "metadata": {
        "colab": {
          "base_uri": "https://localhost:8080/"
        },
        "id": "qZz1rHkNs97C",
        "outputId": "3d856ada-cecd-426b-b402-c19b962b7075"
      },
      "execution_count": 23,
      "outputs": [
        {
          "output_type": "stream",
          "name": "stdout",
          "text": [
            "[[12 11]\n",
            " [14  3]\n",
            " [15 17]]\n",
            "[[12 14 15]\n",
            " [11  3 17]]\n"
          ]
        }
      ]
    },
    {
      "cell_type": "code",
      "source": [
        "np.matmul(matrix1,matrix2)"
      ],
      "metadata": {
        "colab": {
          "base_uri": "https://localhost:8080/"
        },
        "id": "oe7Kk--ouv7k",
        "outputId": "11e5c3db-529b-40d5-932f-bc7839f82cc3"
      },
      "execution_count": 24,
      "outputs": [
        {
          "output_type": "execute_result",
          "data": {
            "text/plain": [
              "array([[322, 280, 268],\n",
              "       [238, 248, 234],\n",
              "       [448, 376, 361]])"
            ]
          },
          "metadata": {},
          "execution_count": 24
        }
      ]
    },
    {
      "cell_type": "code",
      "source": [
        "matrix1 @ matrix2"
      ],
      "metadata": {
        "colab": {
          "base_uri": "https://localhost:8080/"
        },
        "id": "hF2-knpxu9vq",
        "outputId": "9c056970-dc2c-488a-d8b3-4d875e313152"
      },
      "execution_count": 28,
      "outputs": [
        {
          "output_type": "execute_result",
          "data": {
            "text/plain": [
              "array([[322, 280, 268],\n",
              "       [238, 248, 234],\n",
              "       [448, 376, 361]])"
            ]
          },
          "metadata": {},
          "execution_count": 28
        }
      ]
    },
    {
      "cell_type": "code",
      "source": [],
      "metadata": {
        "id": "z5-kJAk4vw-i"
      },
      "execution_count": null,
      "outputs": []
    }
  ]
}